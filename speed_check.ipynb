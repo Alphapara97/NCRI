{
 "cells": [
  {
   "cell_type": "code",
   "execution_count": 1,
   "id": "74cd8e2f-6d4d-43e9-8eac-627e1b6165cc",
   "metadata": {},
   "outputs": [
    {
     "name": "stdout",
     "output_type": "stream",
     "text": [
      "CUDA (GPU) is available with 2 GPU(s).\n",
      "GPU 0: NVIDIA RTX A6000\n",
      "GPU 1: NVIDIA RTX A6000\n"
     ]
    }
   ],
   "source": [
    "import torch\n",
    "\n",
    "# Check if CUDA (GPU) is available\n",
    "if torch.cuda.is_available():\n",
    "    # Get the number of available GPUs\n",
    "    num_gpus = torch.cuda.device_count()\n",
    "    \n",
    "    # Print GPU information\n",
    "    print(f\"CUDA (GPU) is available with {num_gpus} GPU(s).\")\n",
    "    for gpu_id in range(num_gpus):\n",
    "        print(f\"GPU {gpu_id}: {torch.cuda.get_device_name(gpu_id)}\")\n",
    "else:\n",
    "    print(\"CUDA (GPU) is not available. Training will be done on CPU.\")\n"
   ]
  },
  {
   "cell_type": "code",
   "execution_count": 2,
   "id": "b573cb53-3c30-4b12-9029-2e32e74f26d4",
   "metadata": {},
   "outputs": [],
   "source": [
    "import torch\n",
    "from datasets import load_dataset\n",
    "from transformers import AutoTokenizer, AutoModelForSequenceClassification, Trainer, TrainingArguments\n",
    "from sklearn.model_selection import train_test_split\n",
    "import pandas as pd"
   ]
  },
  {
   "cell_type": "code",
   "execution_count": 3,
   "id": "1d778e75-cb69-485b-b21f-60bf5288c4bb",
   "metadata": {},
   "outputs": [
    {
     "name": "stderr",
     "output_type": "stream",
     "text": [
      "/tmp/ipykernel_872081/4166510820.py:1: DtypeWarning: Columns (3,4,5,6,12,14) have mixed types. Specify dtype option on import or set low_memory=False.\n",
      "  df = pd.read_csv('/home/asasmal/NCRI/Twitterdatainsheets.csv')\n"
     ]
    }
   ],
   "source": [
    "df = pd.read_csv('/home/asasmal/NCRI/Twitterdatainsheets.csv')"
   ]
  },
  {
   "cell_type": "code",
   "execution_count": 4,
   "id": "ab45ae0f-6075-4a76-8add-837d6560d4f9",
   "metadata": {},
   "outputs": [
    {
     "name": "stdout",
     "output_type": "stream",
     "text": [
      "<class 'pandas.core.frame.DataFrame'>\n",
      "RangeIndex: 206295 entries, 0 to 206294\n",
      "Data columns (total 15 columns):\n",
      " #   Column         Non-Null Count   Dtype  \n",
      "---  ------         --------------   -----  \n",
      " 0   index          206295 non-null  int64  \n",
      " 1   TweetID        206291 non-null  object \n",
      " 2    Weekday       206292 non-null  object \n",
      " 3    Hour          106175 non-null  object \n",
      " 4    Day           106181 non-null  object \n",
      " 5    Lang          106133 non-null  object \n",
      " 6    IsReshare     100000 non-null  object \n",
      " 7    Reach         100000 non-null  float64\n",
      " 8    RetweetCount  100000 non-null  float64\n",
      " 9    Likes         100000 non-null  float64\n",
      " 10   Klout         100000 non-null  float64\n",
      " 11   Sentiment     100000 non-null  float64\n",
      " 12   text          100000 non-null  object \n",
      " 13   LocationID    100000 non-null  float64\n",
      " 14   UserID        100000 non-null  object \n",
      "dtypes: float64(6), int64(1), object(8)\n",
      "memory usage: 23.6+ MB\n"
     ]
    }
   ],
   "source": [
    "df.info()"
   ]
  },
  {
   "cell_type": "code",
   "execution_count": 5,
   "id": "2c0b5a01-4122-45fd-ac03-f119ecc460d9",
   "metadata": {},
   "outputs": [],
   "source": [
    "column_names = df.columns"
   ]
  },
  {
   "cell_type": "code",
   "execution_count": 6,
   "id": "0079ca6c-40ba-4557-a65d-8fb2d4b480e6",
   "metadata": {},
   "outputs": [
    {
     "data": {
      "text/plain": [
       "Index(['index', 'TweetID', ' Weekday', ' Hour', ' Day', ' Lang', ' IsReshare',\n",
       "       ' Reach', ' RetweetCount', ' Likes', ' Klout', ' Sentiment', ' text',\n",
       "       ' LocationID', ' UserID'],\n",
       "      dtype='object')"
      ]
     },
     "execution_count": 6,
     "metadata": {},
     "output_type": "execute_result"
    }
   ],
   "source": [
    "column_names"
   ]
  },
  {
   "cell_type": "code",
   "execution_count": 7,
   "id": "6ab18f84-e031-46bb-af85-1d0a7251d50e",
   "metadata": {},
   "outputs": [],
   "source": [
    "sentiment_column =' Sentiment'"
   ]
  },
  {
   "cell_type": "code",
   "execution_count": 8,
   "id": "fa267b31-e614-4c53-9322-8f26dda1d501",
   "metadata": {},
   "outputs": [
    {
     "name": "stdout",
     "output_type": "stream",
     "text": [
      "Lowest number in  Sentiment: -6.0\n",
      "Highest number in  Sentiment: 7.333333\n"
     ]
    }
   ],
   "source": [
    "# Find the lowest and highest numbers in the column\n",
    "lowest_number = df[sentiment_column].min()\n",
    "highest_number = df[sentiment_column].max()\n",
    "\n",
    "# Print the results\n",
    "print(f\"Lowest number in {sentiment_column}: {lowest_number}\")\n",
    "print(f\"Highest number in {sentiment_column}: {highest_number}\")\n"
   ]
  },
  {
   "cell_type": "code",
   "execution_count": 9,
   "id": "dcbef58b-1c7b-4126-a961-6b4539257c6b",
   "metadata": {},
   "outputs": [],
   "source": [
    "text =' text'"
   ]
  },
  {
   "cell_type": "code",
   "execution_count": 10,
   "id": "ad4c79bd-0d99-477a-b731-0372a22909a8",
   "metadata": {},
   "outputs": [
    {
     "name": "stdout",
     "output_type": "stream",
     "text": [
      "Duplicates in  text column:\n",
      "['RT @paf31: PureScript now runs in the browser on Node natively (C++11 backend) on iOS and Android (React Native) and on AWS Lambda! Did'\n",
      " 'RT @jpaulreed: Happy New Year to all those AWS instances of ours!'\n",
      " 'RT @linuxacademyCOM: AWS training library available with all three associate certifications and AWS CSA Professional starting at just $9! h'\n",
      " ...\n",
      " 'RT @GNethercutt: Find me at #PearlHacks this weekend for help with your #AWS Java big data and cloud hacks!'\n",
      " 'RT @kylemroche: Adding websockets to an @awscloud serverless app with #AWS #IoT https://stesie.github.io/2016/04/aws-iot-pubsub'\n",
      " nan]\n"
     ]
    }
   ],
   "source": [
    "# Check for duplicates in the specified column\n",
    "duplicates_mask = df[text].duplicated()\n",
    "\n",
    "# Filter the DataFrame to get rows with duplicate values in the specified column\n",
    "duplicate_rows = df[duplicates_mask]\n",
    "\n",
    "# Print duplicate values if any\n",
    "if not duplicate_rows.empty:\n",
    "    print(f\"Duplicates in {text} column:\")\n",
    "    print(duplicate_rows[text].unique())\n",
    "else:\n",
    "    print(f\"No duplicates found in {text} column.\")"
   ]
  },
  {
   "cell_type": "code",
   "execution_count": 11,
   "id": "439615ef-2cf5-4bd6-ae97-79fee3cdd23c",
   "metadata": {},
   "outputs": [],
   "source": [
    "df_no_duplicates = df.drop_duplicates(subset=[text])"
   ]
  },
  {
   "cell_type": "code",
   "execution_count": 12,
   "id": "fd3c5fbf-6e43-413d-9a82-288a411cab90",
   "metadata": {},
   "outputs": [
    {
     "data": {
      "text/html": [
       "<div>\n",
       "<style scoped>\n",
       "    .dataframe tbody tr th:only-of-type {\n",
       "        vertical-align: middle;\n",
       "    }\n",
       "\n",
       "    .dataframe tbody tr th {\n",
       "        vertical-align: top;\n",
       "    }\n",
       "\n",
       "    .dataframe thead th {\n",
       "        text-align: right;\n",
       "    }\n",
       "</style>\n",
       "<table border=\"1\" class=\"dataframe\">\n",
       "  <thead>\n",
       "    <tr style=\"text-align: right;\">\n",
       "      <th></th>\n",
       "      <th>index</th>\n",
       "      <th>TweetID</th>\n",
       "      <th>Weekday</th>\n",
       "      <th>Hour</th>\n",
       "      <th>Day</th>\n",
       "      <th>Lang</th>\n",
       "      <th>IsReshare</th>\n",
       "      <th>Reach</th>\n",
       "      <th>RetweetCount</th>\n",
       "      <th>Likes</th>\n",
       "      <th>Klout</th>\n",
       "      <th>Sentiment</th>\n",
       "      <th>text</th>\n",
       "      <th>LocationID</th>\n",
       "      <th>UserID</th>\n",
       "    </tr>\n",
       "  </thead>\n",
       "  <tbody>\n",
       "    <tr>\n",
       "      <th>0</th>\n",
       "      <td>0</td>\n",
       "      <td>tw-682712873332805633</td>\n",
       "      <td>Thursday</td>\n",
       "      <td>17</td>\n",
       "      <td>31</td>\n",
       "      <td>en</td>\n",
       "      <td>False</td>\n",
       "      <td>44.0</td>\n",
       "      <td>0.0</td>\n",
       "      <td>0.0</td>\n",
       "      <td>35.0</td>\n",
       "      <td>0.0</td>\n",
       "      <td>We are hiring: Senior Software Engineer - Prot...</td>\n",
       "      <td>3751.0</td>\n",
       "      <td>tw-40932430</td>\n",
       "    </tr>\n",
       "    <tr>\n",
       "      <th>1</th>\n",
       "      <td>1</td>\n",
       "      <td>tw-682713045357998080</td>\n",
       "      <td>Thursday</td>\n",
       "      <td>17</td>\n",
       "      <td>31</td>\n",
       "      <td>en</td>\n",
       "      <td>True</td>\n",
       "      <td>1810.0</td>\n",
       "      <td>5.0</td>\n",
       "      <td>0.0</td>\n",
       "      <td>53.0</td>\n",
       "      <td>2.0</td>\n",
       "      <td>RT @CodeMineStatus: This is true Amazon Web Se...</td>\n",
       "      <td>3989.0</td>\n",
       "      <td>tw-3179389829</td>\n",
       "    </tr>\n",
       "    <tr>\n",
       "      <th>2</th>\n",
       "      <td>2</td>\n",
       "      <td>tw-682713219375476736</td>\n",
       "      <td>Thursday</td>\n",
       "      <td>17</td>\n",
       "      <td>31</td>\n",
       "      <td>en</td>\n",
       "      <td>False</td>\n",
       "      <td>282.0</td>\n",
       "      <td>0.0</td>\n",
       "      <td>0.0</td>\n",
       "      <td>47.0</td>\n",
       "      <td>0.0</td>\n",
       "      <td>Devops Engineer Aws Ansible Cassandra Mysql Ub...</td>\n",
       "      <td>3741.0</td>\n",
       "      <td>tw-4624808414</td>\n",
       "    </tr>\n",
       "    <tr>\n",
       "      <th>3</th>\n",
       "      <td>3</td>\n",
       "      <td>tw-682713436967579648</td>\n",
       "      <td>Thursday</td>\n",
       "      <td>17</td>\n",
       "      <td>31</td>\n",
       "      <td>en</td>\n",
       "      <td>False</td>\n",
       "      <td>2087.0</td>\n",
       "      <td>4.0</td>\n",
       "      <td>0.0</td>\n",
       "      <td>53.0</td>\n",
       "      <td>0.0</td>\n",
       "      <td>Happy New Year to all those AWS instances of o...</td>\n",
       "      <td>3753.0</td>\n",
       "      <td>tw-356447127</td>\n",
       "    </tr>\n",
       "    <tr>\n",
       "      <th>4</th>\n",
       "      <td>4</td>\n",
       "      <td>tw-682714048199311366</td>\n",
       "      <td>Thursday</td>\n",
       "      <td>17</td>\n",
       "      <td>31</td>\n",
       "      <td>en</td>\n",
       "      <td>False</td>\n",
       "      <td>953.0</td>\n",
       "      <td>0.0</td>\n",
       "      <td>0.0</td>\n",
       "      <td>47.0</td>\n",
       "      <td>0.0</td>\n",
       "      <td>Amazon is hiring! #Sr. #International Tax Mana...</td>\n",
       "      <td>3751.0</td>\n",
       "      <td>tw-3172686669</td>\n",
       "    </tr>\n",
       "    <tr>\n",
       "      <th>...</th>\n",
       "      <td>...</td>\n",
       "      <td>...</td>\n",
       "      <td>...</td>\n",
       "      <td>...</td>\n",
       "      <td>...</td>\n",
       "      <td>...</td>\n",
       "      <td>...</td>\n",
       "      <td>...</td>\n",
       "      <td>...</td>\n",
       "      <td>...</td>\n",
       "      <td>...</td>\n",
       "      <td>...</td>\n",
       "      <td>...</td>\n",
       "      <td>...</td>\n",
       "      <td>...</td>\n",
       "    </tr>\n",
       "    <tr>\n",
       "      <th>99993</th>\n",
       "      <td>99993</td>\n",
       "      <td>tw-716349145771065344</td>\n",
       "      <td>Saturday</td>\n",
       "      <td>13</td>\n",
       "      <td>2</td>\n",
       "      <td>en</td>\n",
       "      <td>False</td>\n",
       "      <td>763.0</td>\n",
       "      <td>0.0</td>\n",
       "      <td>0.0</td>\n",
       "      <td>29.0</td>\n",
       "      <td>0.0</td>\n",
       "      <td>I added a video to a @YouTube playlist https:/...</td>\n",
       "      <td>1332.0</td>\n",
       "      <td>tw-1143330170</td>\n",
       "    </tr>\n",
       "    <tr>\n",
       "      <th>99995</th>\n",
       "      <td>99995</td>\n",
       "      <td>tw-716349486742700032</td>\n",
       "      <td>Saturday</td>\n",
       "      <td>13</td>\n",
       "      <td>2</td>\n",
       "      <td>hi</td>\n",
       "      <td>True</td>\n",
       "      <td>1143.0</td>\n",
       "      <td>1.0</td>\n",
       "      <td>0.0</td>\n",
       "      <td>49.0</td>\n",
       "      <td>1.0</td>\n",
       "      <td>RT @iiManjula: Dekhana thoda dhirese darlingme...</td>\n",
       "      <td>1349.0</td>\n",
       "      <td>tw-4667163978</td>\n",
       "    </tr>\n",
       "    <tr>\n",
       "      <th>99996</th>\n",
       "      <td>99996</td>\n",
       "      <td>tw-716349615340199937</td>\n",
       "      <td>Saturday</td>\n",
       "      <td>13</td>\n",
       "      <td>2</td>\n",
       "      <td>en</td>\n",
       "      <td>False</td>\n",
       "      <td>763.0</td>\n",
       "      <td>0.0</td>\n",
       "      <td>0.0</td>\n",
       "      <td>29.0</td>\n",
       "      <td>0.0</td>\n",
       "      <td>I added a video to a @YouTube playlist https:/...</td>\n",
       "      <td>1332.0</td>\n",
       "      <td>tw-1143330170</td>\n",
       "    </tr>\n",
       "    <tr>\n",
       "      <th>99999</th>\n",
       "      <td>99999</td>\n",
       "      <td>tw-716352771209887744</td>\n",
       "      <td>Saturday</td>\n",
       "      <td>13</td>\n",
       "      <td>2</td>\n",
       "      <td>en</td>\n",
       "      <td>False</td>\n",
       "      <td>2422.0</td>\n",
       "      <td>1.0</td>\n",
       "      <td>0.0</td>\n",
       "      <td>34.0</td>\n",
       "      <td>3.0</td>\n",
       "      <td>Great turn out for the AWS Plant Sale and the ...</td>\n",
       "      <td>4007.0</td>\n",
       "      <td>tw-2286856224</td>\n",
       "    </tr>\n",
       "    <tr>\n",
       "      <th>100000</th>\n",
       "      <td>100000</td>\n",
       "      <td>NaN</td>\n",
       "      <td>NaN</td>\n",
       "      <td>NaN</td>\n",
       "      <td>NaN</td>\n",
       "      <td>NaN</td>\n",
       "      <td>NaN</td>\n",
       "      <td>NaN</td>\n",
       "      <td>NaN</td>\n",
       "      <td>NaN</td>\n",
       "      <td>NaN</td>\n",
       "      <td>NaN</td>\n",
       "      <td>NaN</td>\n",
       "      <td>NaN</td>\n",
       "      <td>NaN</td>\n",
       "    </tr>\n",
       "  </tbody>\n",
       "</table>\n",
       "<p>70272 rows × 15 columns</p>\n",
       "</div>"
      ],
      "text/plain": [
       "         index                TweetID   Weekday  Hour  Day  Lang  IsReshare  \\\n",
       "0            0  tw-682712873332805633  Thursday    17   31    en      False   \n",
       "1            1  tw-682713045357998080  Thursday    17   31    en       True   \n",
       "2            2  tw-682713219375476736  Thursday    17   31    en      False   \n",
       "3            3  tw-682713436967579648  Thursday    17   31    en      False   \n",
       "4            4  tw-682714048199311366  Thursday    17   31    en      False   \n",
       "...        ...                    ...       ...   ...  ...   ...        ...   \n",
       "99993    99993  tw-716349145771065344  Saturday    13    2    en      False   \n",
       "99995    99995  tw-716349486742700032  Saturday    13    2    hi       True   \n",
       "99996    99996  tw-716349615340199937  Saturday    13    2    en      False   \n",
       "99999    99999  tw-716352771209887744  Saturday    13    2    en      False   \n",
       "100000  100000                    NaN       NaN   NaN  NaN   NaN        NaN   \n",
       "\n",
       "         Reach   RetweetCount   Likes   Klout   Sentiment  \\\n",
       "0         44.0            0.0     0.0    35.0         0.0   \n",
       "1       1810.0            5.0     0.0    53.0         2.0   \n",
       "2        282.0            0.0     0.0    47.0         0.0   \n",
       "3       2087.0            4.0     0.0    53.0         0.0   \n",
       "4        953.0            0.0     0.0    47.0         0.0   \n",
       "...        ...            ...     ...     ...         ...   \n",
       "99993    763.0            0.0     0.0    29.0         0.0   \n",
       "99995   1143.0            1.0     0.0    49.0         1.0   \n",
       "99996    763.0            0.0     0.0    29.0         0.0   \n",
       "99999   2422.0            1.0     0.0    34.0         3.0   \n",
       "100000     NaN            NaN     NaN     NaN         NaN   \n",
       "\n",
       "                                                     text   LocationID  \\\n",
       "0       We are hiring: Senior Software Engineer - Prot...       3751.0   \n",
       "1       RT @CodeMineStatus: This is true Amazon Web Se...       3989.0   \n",
       "2       Devops Engineer Aws Ansible Cassandra Mysql Ub...       3741.0   \n",
       "3       Happy New Year to all those AWS instances of o...       3753.0   \n",
       "4       Amazon is hiring! #Sr. #International Tax Mana...       3751.0   \n",
       "...                                                   ...          ...   \n",
       "99993   I added a video to a @YouTube playlist https:/...       1332.0   \n",
       "99995   RT @iiManjula: Dekhana thoda dhirese darlingme...       1349.0   \n",
       "99996   I added a video to a @YouTube playlist https:/...       1332.0   \n",
       "99999   Great turn out for the AWS Plant Sale and the ...       4007.0   \n",
       "100000                                                NaN          NaN   \n",
       "\n",
       "               UserID  \n",
       "0         tw-40932430  \n",
       "1       tw-3179389829  \n",
       "2       tw-4624808414  \n",
       "3        tw-356447127  \n",
       "4       tw-3172686669  \n",
       "...               ...  \n",
       "99993   tw-1143330170  \n",
       "99995   tw-4667163978  \n",
       "99996   tw-1143330170  \n",
       "99999   tw-2286856224  \n",
       "100000            NaN  \n",
       "\n",
       "[70272 rows x 15 columns]"
      ]
     },
     "execution_count": 12,
     "metadata": {},
     "output_type": "execute_result"
    }
   ],
   "source": [
    "df_no_duplicates"
   ]
  },
  {
   "cell_type": "code",
   "execution_count": 13,
   "id": "9ac48387-e53c-444a-ab98-588e275e0b65",
   "metadata": {},
   "outputs": [
    {
     "name": "stderr",
     "output_type": "stream",
     "text": [
      "/tmp/ipykernel_872081/966774818.py:1: SettingWithCopyWarning: \n",
      "A value is trying to be set on a copy of a slice from a DataFrame.\n",
      "Try using .loc[row_indexer,col_indexer] = value instead\n",
      "\n",
      "See the caveats in the documentation: https://pandas.pydata.org/pandas-docs/stable/user_guide/indexing.html#returning-a-view-versus-a-copy\n",
      "  df_no_duplicates['overall_sentiment'] = (df_no_duplicates[sentiment_column] > 0).astype(int)\n"
     ]
    }
   ],
   "source": [
    "\n",
    "df_no_duplicates['overall_sentiment'] = (df_no_duplicates[sentiment_column] > 0).astype(int)\n"
   ]
  },
  {
   "cell_type": "code",
   "execution_count": 14,
   "id": "805afb76-5d7a-419f-99ee-bfcd653e32a4",
   "metadata": {},
   "outputs": [
    {
     "data": {
      "text/html": [
       "<div>\n",
       "<style scoped>\n",
       "    .dataframe tbody tr th:only-of-type {\n",
       "        vertical-align: middle;\n",
       "    }\n",
       "\n",
       "    .dataframe tbody tr th {\n",
       "        vertical-align: top;\n",
       "    }\n",
       "\n",
       "    .dataframe thead th {\n",
       "        text-align: right;\n",
       "    }\n",
       "</style>\n",
       "<table border=\"1\" class=\"dataframe\">\n",
       "  <thead>\n",
       "    <tr style=\"text-align: right;\">\n",
       "      <th></th>\n",
       "      <th>index</th>\n",
       "      <th>TweetID</th>\n",
       "      <th>Weekday</th>\n",
       "      <th>Hour</th>\n",
       "      <th>Day</th>\n",
       "      <th>Lang</th>\n",
       "      <th>IsReshare</th>\n",
       "      <th>Reach</th>\n",
       "      <th>RetweetCount</th>\n",
       "      <th>Likes</th>\n",
       "      <th>Klout</th>\n",
       "      <th>Sentiment</th>\n",
       "      <th>text</th>\n",
       "      <th>LocationID</th>\n",
       "      <th>UserID</th>\n",
       "      <th>overall_sentiment</th>\n",
       "    </tr>\n",
       "  </thead>\n",
       "  <tbody>\n",
       "    <tr>\n",
       "      <th>0</th>\n",
       "      <td>0</td>\n",
       "      <td>tw-682712873332805633</td>\n",
       "      <td>Thursday</td>\n",
       "      <td>17</td>\n",
       "      <td>31</td>\n",
       "      <td>en</td>\n",
       "      <td>False</td>\n",
       "      <td>44.0</td>\n",
       "      <td>0.0</td>\n",
       "      <td>0.0</td>\n",
       "      <td>35.0</td>\n",
       "      <td>0.0</td>\n",
       "      <td>We are hiring: Senior Software Engineer - Prot...</td>\n",
       "      <td>3751.0</td>\n",
       "      <td>tw-40932430</td>\n",
       "      <td>0</td>\n",
       "    </tr>\n",
       "    <tr>\n",
       "      <th>1</th>\n",
       "      <td>1</td>\n",
       "      <td>tw-682713045357998080</td>\n",
       "      <td>Thursday</td>\n",
       "      <td>17</td>\n",
       "      <td>31</td>\n",
       "      <td>en</td>\n",
       "      <td>True</td>\n",
       "      <td>1810.0</td>\n",
       "      <td>5.0</td>\n",
       "      <td>0.0</td>\n",
       "      <td>53.0</td>\n",
       "      <td>2.0</td>\n",
       "      <td>RT @CodeMineStatus: This is true Amazon Web Se...</td>\n",
       "      <td>3989.0</td>\n",
       "      <td>tw-3179389829</td>\n",
       "      <td>1</td>\n",
       "    </tr>\n",
       "    <tr>\n",
       "      <th>2</th>\n",
       "      <td>2</td>\n",
       "      <td>tw-682713219375476736</td>\n",
       "      <td>Thursday</td>\n",
       "      <td>17</td>\n",
       "      <td>31</td>\n",
       "      <td>en</td>\n",
       "      <td>False</td>\n",
       "      <td>282.0</td>\n",
       "      <td>0.0</td>\n",
       "      <td>0.0</td>\n",
       "      <td>47.0</td>\n",
       "      <td>0.0</td>\n",
       "      <td>Devops Engineer Aws Ansible Cassandra Mysql Ub...</td>\n",
       "      <td>3741.0</td>\n",
       "      <td>tw-4624808414</td>\n",
       "      <td>0</td>\n",
       "    </tr>\n",
       "    <tr>\n",
       "      <th>3</th>\n",
       "      <td>3</td>\n",
       "      <td>tw-682713436967579648</td>\n",
       "      <td>Thursday</td>\n",
       "      <td>17</td>\n",
       "      <td>31</td>\n",
       "      <td>en</td>\n",
       "      <td>False</td>\n",
       "      <td>2087.0</td>\n",
       "      <td>4.0</td>\n",
       "      <td>0.0</td>\n",
       "      <td>53.0</td>\n",
       "      <td>0.0</td>\n",
       "      <td>Happy New Year to all those AWS instances of o...</td>\n",
       "      <td>3753.0</td>\n",
       "      <td>tw-356447127</td>\n",
       "      <td>0</td>\n",
       "    </tr>\n",
       "    <tr>\n",
       "      <th>4</th>\n",
       "      <td>4</td>\n",
       "      <td>tw-682714048199311366</td>\n",
       "      <td>Thursday</td>\n",
       "      <td>17</td>\n",
       "      <td>31</td>\n",
       "      <td>en</td>\n",
       "      <td>False</td>\n",
       "      <td>953.0</td>\n",
       "      <td>0.0</td>\n",
       "      <td>0.0</td>\n",
       "      <td>47.0</td>\n",
       "      <td>0.0</td>\n",
       "      <td>Amazon is hiring! #Sr. #International Tax Mana...</td>\n",
       "      <td>3751.0</td>\n",
       "      <td>tw-3172686669</td>\n",
       "      <td>0</td>\n",
       "    </tr>\n",
       "    <tr>\n",
       "      <th>...</th>\n",
       "      <td>...</td>\n",
       "      <td>...</td>\n",
       "      <td>...</td>\n",
       "      <td>...</td>\n",
       "      <td>...</td>\n",
       "      <td>...</td>\n",
       "      <td>...</td>\n",
       "      <td>...</td>\n",
       "      <td>...</td>\n",
       "      <td>...</td>\n",
       "      <td>...</td>\n",
       "      <td>...</td>\n",
       "      <td>...</td>\n",
       "      <td>...</td>\n",
       "      <td>...</td>\n",
       "      <td>...</td>\n",
       "    </tr>\n",
       "    <tr>\n",
       "      <th>99993</th>\n",
       "      <td>99993</td>\n",
       "      <td>tw-716349145771065344</td>\n",
       "      <td>Saturday</td>\n",
       "      <td>13</td>\n",
       "      <td>2</td>\n",
       "      <td>en</td>\n",
       "      <td>False</td>\n",
       "      <td>763.0</td>\n",
       "      <td>0.0</td>\n",
       "      <td>0.0</td>\n",
       "      <td>29.0</td>\n",
       "      <td>0.0</td>\n",
       "      <td>I added a video to a @YouTube playlist https:/...</td>\n",
       "      <td>1332.0</td>\n",
       "      <td>tw-1143330170</td>\n",
       "      <td>0</td>\n",
       "    </tr>\n",
       "    <tr>\n",
       "      <th>99995</th>\n",
       "      <td>99995</td>\n",
       "      <td>tw-716349486742700032</td>\n",
       "      <td>Saturday</td>\n",
       "      <td>13</td>\n",
       "      <td>2</td>\n",
       "      <td>hi</td>\n",
       "      <td>True</td>\n",
       "      <td>1143.0</td>\n",
       "      <td>1.0</td>\n",
       "      <td>0.0</td>\n",
       "      <td>49.0</td>\n",
       "      <td>1.0</td>\n",
       "      <td>RT @iiManjula: Dekhana thoda dhirese darlingme...</td>\n",
       "      <td>1349.0</td>\n",
       "      <td>tw-4667163978</td>\n",
       "      <td>1</td>\n",
       "    </tr>\n",
       "    <tr>\n",
       "      <th>99996</th>\n",
       "      <td>99996</td>\n",
       "      <td>tw-716349615340199937</td>\n",
       "      <td>Saturday</td>\n",
       "      <td>13</td>\n",
       "      <td>2</td>\n",
       "      <td>en</td>\n",
       "      <td>False</td>\n",
       "      <td>763.0</td>\n",
       "      <td>0.0</td>\n",
       "      <td>0.0</td>\n",
       "      <td>29.0</td>\n",
       "      <td>0.0</td>\n",
       "      <td>I added a video to a @YouTube playlist https:/...</td>\n",
       "      <td>1332.0</td>\n",
       "      <td>tw-1143330170</td>\n",
       "      <td>0</td>\n",
       "    </tr>\n",
       "    <tr>\n",
       "      <th>99999</th>\n",
       "      <td>99999</td>\n",
       "      <td>tw-716352771209887744</td>\n",
       "      <td>Saturday</td>\n",
       "      <td>13</td>\n",
       "      <td>2</td>\n",
       "      <td>en</td>\n",
       "      <td>False</td>\n",
       "      <td>2422.0</td>\n",
       "      <td>1.0</td>\n",
       "      <td>0.0</td>\n",
       "      <td>34.0</td>\n",
       "      <td>3.0</td>\n",
       "      <td>Great turn out for the AWS Plant Sale and the ...</td>\n",
       "      <td>4007.0</td>\n",
       "      <td>tw-2286856224</td>\n",
       "      <td>1</td>\n",
       "    </tr>\n",
       "    <tr>\n",
       "      <th>100000</th>\n",
       "      <td>100000</td>\n",
       "      <td>NaN</td>\n",
       "      <td>NaN</td>\n",
       "      <td>NaN</td>\n",
       "      <td>NaN</td>\n",
       "      <td>NaN</td>\n",
       "      <td>NaN</td>\n",
       "      <td>NaN</td>\n",
       "      <td>NaN</td>\n",
       "      <td>NaN</td>\n",
       "      <td>NaN</td>\n",
       "      <td>NaN</td>\n",
       "      <td>NaN</td>\n",
       "      <td>NaN</td>\n",
       "      <td>NaN</td>\n",
       "      <td>0</td>\n",
       "    </tr>\n",
       "  </tbody>\n",
       "</table>\n",
       "<p>70272 rows × 16 columns</p>\n",
       "</div>"
      ],
      "text/plain": [
       "         index                TweetID   Weekday  Hour  Day  Lang  IsReshare  \\\n",
       "0            0  tw-682712873332805633  Thursday    17   31    en      False   \n",
       "1            1  tw-682713045357998080  Thursday    17   31    en       True   \n",
       "2            2  tw-682713219375476736  Thursday    17   31    en      False   \n",
       "3            3  tw-682713436967579648  Thursday    17   31    en      False   \n",
       "4            4  tw-682714048199311366  Thursday    17   31    en      False   \n",
       "...        ...                    ...       ...   ...  ...   ...        ...   \n",
       "99993    99993  tw-716349145771065344  Saturday    13    2    en      False   \n",
       "99995    99995  tw-716349486742700032  Saturday    13    2    hi       True   \n",
       "99996    99996  tw-716349615340199937  Saturday    13    2    en      False   \n",
       "99999    99999  tw-716352771209887744  Saturday    13    2    en      False   \n",
       "100000  100000                    NaN       NaN   NaN  NaN   NaN        NaN   \n",
       "\n",
       "         Reach   RetweetCount   Likes   Klout   Sentiment  \\\n",
       "0         44.0            0.0     0.0    35.0         0.0   \n",
       "1       1810.0            5.0     0.0    53.0         2.0   \n",
       "2        282.0            0.0     0.0    47.0         0.0   \n",
       "3       2087.0            4.0     0.0    53.0         0.0   \n",
       "4        953.0            0.0     0.0    47.0         0.0   \n",
       "...        ...            ...     ...     ...         ...   \n",
       "99993    763.0            0.0     0.0    29.0         0.0   \n",
       "99995   1143.0            1.0     0.0    49.0         1.0   \n",
       "99996    763.0            0.0     0.0    29.0         0.0   \n",
       "99999   2422.0            1.0     0.0    34.0         3.0   \n",
       "100000     NaN            NaN     NaN     NaN         NaN   \n",
       "\n",
       "                                                     text   LocationID  \\\n",
       "0       We are hiring: Senior Software Engineer - Prot...       3751.0   \n",
       "1       RT @CodeMineStatus: This is true Amazon Web Se...       3989.0   \n",
       "2       Devops Engineer Aws Ansible Cassandra Mysql Ub...       3741.0   \n",
       "3       Happy New Year to all those AWS instances of o...       3753.0   \n",
       "4       Amazon is hiring! #Sr. #International Tax Mana...       3751.0   \n",
       "...                                                   ...          ...   \n",
       "99993   I added a video to a @YouTube playlist https:/...       1332.0   \n",
       "99995   RT @iiManjula: Dekhana thoda dhirese darlingme...       1349.0   \n",
       "99996   I added a video to a @YouTube playlist https:/...       1332.0   \n",
       "99999   Great turn out for the AWS Plant Sale and the ...       4007.0   \n",
       "100000                                                NaN          NaN   \n",
       "\n",
       "               UserID  overall_sentiment  \n",
       "0         tw-40932430                  0  \n",
       "1       tw-3179389829                  1  \n",
       "2       tw-4624808414                  0  \n",
       "3        tw-356447127                  0  \n",
       "4       tw-3172686669                  0  \n",
       "...               ...                ...  \n",
       "99993   tw-1143330170                  0  \n",
       "99995   tw-4667163978                  1  \n",
       "99996   tw-1143330170                  0  \n",
       "99999   tw-2286856224                  1  \n",
       "100000            NaN                  0  \n",
       "\n",
       "[70272 rows x 16 columns]"
      ]
     },
     "execution_count": 14,
     "metadata": {},
     "output_type": "execute_result"
    }
   ],
   "source": [
    "df_no_duplicates"
   ]
  },
  {
   "cell_type": "code",
   "execution_count": 15,
   "id": "d50137dd-c84a-4544-94ef-d44fcf1da26f",
   "metadata": {},
   "outputs": [],
   "source": [
    "column_names = df_no_duplicates.columns"
   ]
  },
  {
   "cell_type": "code",
   "execution_count": 16,
   "id": "9ce6eb87-0229-4cf5-8180-c8413374ffcc",
   "metadata": {},
   "outputs": [
    {
     "data": {
      "text/plain": [
       "Index(['index', 'TweetID', ' Weekday', ' Hour', ' Day', ' Lang', ' IsReshare',\n",
       "       ' Reach', ' RetweetCount', ' Likes', ' Klout', ' Sentiment', ' text',\n",
       "       ' LocationID', ' UserID', 'overall_sentiment'],\n",
       "      dtype='object')"
      ]
     },
     "execution_count": 16,
     "metadata": {},
     "output_type": "execute_result"
    }
   ],
   "source": [
    "column_names\n"
   ]
  },
  {
   "cell_type": "code",
   "execution_count": 17,
   "id": "d7e719b4-1432-4572-ac89-942697a212ae",
   "metadata": {},
   "outputs": [],
   "source": [
    "import pandas as pd\n",
    "\n",
    "# Assuming df is your DataFrame\n",
    "columns_to_keep = [' text', 'overall_sentiment']\n",
    "\n",
    "# Keep only the specified columns\n",
    "df_filtered = df_no_duplicates[columns_to_keep]\n"
   ]
  },
  {
   "cell_type": "code",
   "execution_count": 18,
   "id": "53d39deb-e6cd-4bfe-aade-e36ea2dddfbd",
   "metadata": {},
   "outputs": [
    {
     "data": {
      "text/html": [
       "<div>\n",
       "<style scoped>\n",
       "    .dataframe tbody tr th:only-of-type {\n",
       "        vertical-align: middle;\n",
       "    }\n",
       "\n",
       "    .dataframe tbody tr th {\n",
       "        vertical-align: top;\n",
       "    }\n",
       "\n",
       "    .dataframe thead th {\n",
       "        text-align: right;\n",
       "    }\n",
       "</style>\n",
       "<table border=\"1\" class=\"dataframe\">\n",
       "  <thead>\n",
       "    <tr style=\"text-align: right;\">\n",
       "      <th></th>\n",
       "      <th>text</th>\n",
       "      <th>overall_sentiment</th>\n",
       "    </tr>\n",
       "  </thead>\n",
       "  <tbody>\n",
       "    <tr>\n",
       "      <th>0</th>\n",
       "      <td>We are hiring: Senior Software Engineer - Prot...</td>\n",
       "      <td>0</td>\n",
       "    </tr>\n",
       "    <tr>\n",
       "      <th>1</th>\n",
       "      <td>RT @CodeMineStatus: This is true Amazon Web Se...</td>\n",
       "      <td>1</td>\n",
       "    </tr>\n",
       "    <tr>\n",
       "      <th>2</th>\n",
       "      <td>Devops Engineer Aws Ansible Cassandra Mysql Ub...</td>\n",
       "      <td>0</td>\n",
       "    </tr>\n",
       "    <tr>\n",
       "      <th>3</th>\n",
       "      <td>Happy New Year to all those AWS instances of o...</td>\n",
       "      <td>0</td>\n",
       "    </tr>\n",
       "    <tr>\n",
       "      <th>4</th>\n",
       "      <td>Amazon is hiring! #Sr. #International Tax Mana...</td>\n",
       "      <td>0</td>\n",
       "    </tr>\n",
       "    <tr>\n",
       "      <th>...</th>\n",
       "      <td>...</td>\n",
       "      <td>...</td>\n",
       "    </tr>\n",
       "    <tr>\n",
       "      <th>99993</th>\n",
       "      <td>I added a video to a @YouTube playlist https:/...</td>\n",
       "      <td>0</td>\n",
       "    </tr>\n",
       "    <tr>\n",
       "      <th>99995</th>\n",
       "      <td>RT @iiManjula: Dekhana thoda dhirese darlingme...</td>\n",
       "      <td>1</td>\n",
       "    </tr>\n",
       "    <tr>\n",
       "      <th>99996</th>\n",
       "      <td>I added a video to a @YouTube playlist https:/...</td>\n",
       "      <td>0</td>\n",
       "    </tr>\n",
       "    <tr>\n",
       "      <th>99999</th>\n",
       "      <td>Great turn out for the AWS Plant Sale and the ...</td>\n",
       "      <td>1</td>\n",
       "    </tr>\n",
       "    <tr>\n",
       "      <th>100000</th>\n",
       "      <td>NaN</td>\n",
       "      <td>0</td>\n",
       "    </tr>\n",
       "  </tbody>\n",
       "</table>\n",
       "<p>70272 rows × 2 columns</p>\n",
       "</div>"
      ],
      "text/plain": [
       "                                                     text  overall_sentiment\n",
       "0       We are hiring: Senior Software Engineer - Prot...                  0\n",
       "1       RT @CodeMineStatus: This is true Amazon Web Se...                  1\n",
       "2       Devops Engineer Aws Ansible Cassandra Mysql Ub...                  0\n",
       "3       Happy New Year to all those AWS instances of o...                  0\n",
       "4       Amazon is hiring! #Sr. #International Tax Mana...                  0\n",
       "...                                                   ...                ...\n",
       "99993   I added a video to a @YouTube playlist https:/...                  0\n",
       "99995   RT @iiManjula: Dekhana thoda dhirese darlingme...                  1\n",
       "99996   I added a video to a @YouTube playlist https:/...                  0\n",
       "99999   Great turn out for the AWS Plant Sale and the ...                  1\n",
       "100000                                                NaN                  0\n",
       "\n",
       "[70272 rows x 2 columns]"
      ]
     },
     "execution_count": 18,
     "metadata": {},
     "output_type": "execute_result"
    }
   ],
   "source": [
    "df_filtered"
   ]
  },
  {
   "cell_type": "code",
   "execution_count": 19,
   "id": "0f724e15-28df-4d01-bd39-aa8a4891ef8d",
   "metadata": {},
   "outputs": [],
   "source": [
    "df_filtered_no_null_columns = df_filtered.reset_index(drop=True)"
   ]
  },
  {
   "cell_type": "code",
   "execution_count": 20,
   "id": "b363cc3c-5d40-4c59-9a4d-7090b9f48f78",
   "metadata": {},
   "outputs": [
    {
     "data": {
      "text/html": [
       "<div>\n",
       "<style scoped>\n",
       "    .dataframe tbody tr th:only-of-type {\n",
       "        vertical-align: middle;\n",
       "    }\n",
       "\n",
       "    .dataframe tbody tr th {\n",
       "        vertical-align: top;\n",
       "    }\n",
       "\n",
       "    .dataframe thead th {\n",
       "        text-align: right;\n",
       "    }\n",
       "</style>\n",
       "<table border=\"1\" class=\"dataframe\">\n",
       "  <thead>\n",
       "    <tr style=\"text-align: right;\">\n",
       "      <th></th>\n",
       "      <th>text</th>\n",
       "      <th>overall_sentiment</th>\n",
       "    </tr>\n",
       "  </thead>\n",
       "  <tbody>\n",
       "    <tr>\n",
       "      <th>0</th>\n",
       "      <td>We are hiring: Senior Software Engineer - Prot...</td>\n",
       "      <td>0</td>\n",
       "    </tr>\n",
       "    <tr>\n",
       "      <th>1</th>\n",
       "      <td>RT @CodeMineStatus: This is true Amazon Web Se...</td>\n",
       "      <td>1</td>\n",
       "    </tr>\n",
       "    <tr>\n",
       "      <th>2</th>\n",
       "      <td>Devops Engineer Aws Ansible Cassandra Mysql Ub...</td>\n",
       "      <td>0</td>\n",
       "    </tr>\n",
       "    <tr>\n",
       "      <th>3</th>\n",
       "      <td>Happy New Year to all those AWS instances of o...</td>\n",
       "      <td>0</td>\n",
       "    </tr>\n",
       "    <tr>\n",
       "      <th>4</th>\n",
       "      <td>Amazon is hiring! #Sr. #International Tax Mana...</td>\n",
       "      <td>0</td>\n",
       "    </tr>\n",
       "    <tr>\n",
       "      <th>...</th>\n",
       "      <td>...</td>\n",
       "      <td>...</td>\n",
       "    </tr>\n",
       "    <tr>\n",
       "      <th>70267</th>\n",
       "      <td>I added a video to a @YouTube playlist https:/...</td>\n",
       "      <td>0</td>\n",
       "    </tr>\n",
       "    <tr>\n",
       "      <th>70268</th>\n",
       "      <td>RT @iiManjula: Dekhana thoda dhirese darlingme...</td>\n",
       "      <td>1</td>\n",
       "    </tr>\n",
       "    <tr>\n",
       "      <th>70269</th>\n",
       "      <td>I added a video to a @YouTube playlist https:/...</td>\n",
       "      <td>0</td>\n",
       "    </tr>\n",
       "    <tr>\n",
       "      <th>70270</th>\n",
       "      <td>Great turn out for the AWS Plant Sale and the ...</td>\n",
       "      <td>1</td>\n",
       "    </tr>\n",
       "    <tr>\n",
       "      <th>70271</th>\n",
       "      <td>NaN</td>\n",
       "      <td>0</td>\n",
       "    </tr>\n",
       "  </tbody>\n",
       "</table>\n",
       "<p>70272 rows × 2 columns</p>\n",
       "</div>"
      ],
      "text/plain": [
       "                                                    text  overall_sentiment\n",
       "0      We are hiring: Senior Software Engineer - Prot...                  0\n",
       "1      RT @CodeMineStatus: This is true Amazon Web Se...                  1\n",
       "2      Devops Engineer Aws Ansible Cassandra Mysql Ub...                  0\n",
       "3      Happy New Year to all those AWS instances of o...                  0\n",
       "4      Amazon is hiring! #Sr. #International Tax Mana...                  0\n",
       "...                                                  ...                ...\n",
       "70267  I added a video to a @YouTube playlist https:/...                  0\n",
       "70268  RT @iiManjula: Dekhana thoda dhirese darlingme...                  1\n",
       "70269  I added a video to a @YouTube playlist https:/...                  0\n",
       "70270  Great turn out for the AWS Plant Sale and the ...                  1\n",
       "70271                                                NaN                  0\n",
       "\n",
       "[70272 rows x 2 columns]"
      ]
     },
     "execution_count": 20,
     "metadata": {},
     "output_type": "execute_result"
    }
   ],
   "source": [
    "df_filtered_no_null_columns"
   ]
  },
  {
   "cell_type": "code",
   "execution_count": 21,
   "id": "f913cd23-fbdf-4d2e-80b7-f992d9b61451",
   "metadata": {},
   "outputs": [
    {
     "name": "stdout",
     "output_type": "stream",
     "text": [
      "overall_sentiment\n",
      "0    51436\n",
      "1    18836\n",
      "Name: count, dtype: int64\n"
     ]
    }
   ],
   "source": [
    "value_counts = df_filtered_no_null_columns['overall_sentiment'].value_counts()\n",
    "\n",
    "# Print the number of occurrences of 0 and 1\n",
    "print(value_counts)"
   ]
  },
  {
   "cell_type": "code",
   "execution_count": 22,
   "id": "f1c43b16-adb9-4dbc-89be-f0a298429e4d",
   "metadata": {},
   "outputs": [],
   "source": [
    "#output_file_path = 'Cleaned.csv'\n",
    "\n",
    "# Save the DataFrame to a CSV file\n",
    "#df_filtered_no_null_columns.to_csv(output_file_path, index=False)"
   ]
  },
  {
   "cell_type": "code",
   "execution_count": 8,
   "id": "a2053bec-8a5c-4faf-8298-55b543813cd1",
   "metadata": {},
   "outputs": [],
   "source": [
    "\n",
    "import torch\n",
    "from datasets import load_dataset\n",
    "from transformers import AutoTokenizer, AutoModelForSequenceClassification, Trainer, TrainingArguments\n",
    "from sklearn.model_selection import train_test_split\n",
    "import pandas as pd\n"
   ]
  },
  {
   "cell_type": "code",
   "execution_count": 9,
   "id": "50a5d664-324b-419b-a768-f7c544ea0f7b",
   "metadata": {},
   "outputs": [],
   "source": [
    "#dataset = load_dataset(\"csv\", data_files=\"Cleaned.csv\",split='train[:10%]+train[-80%:]')"
   ]
  },
  {
   "cell_type": "code",
   "execution_count": 10,
   "id": "351519bd-baad-454c-9217-e30e3d0e441a",
   "metadata": {},
   "outputs": [
    {
     "name": "stdout",
     "output_type": "stream",
     "text": [
      "DatasetDict({\n",
      "    train: Dataset({\n",
      "        features: ['text', 'labels'],\n",
      "        num_rows: 19918\n",
      "    })\n",
      "    test: Dataset({\n",
      "        features: ['text', 'labels'],\n",
      "        num_rows: 4980\n",
      "    })\n",
      "})\n"
     ]
    }
   ],
   "source": [
    "from datasets import load_dataset\n",
    "ds = load_dataset('csv', data_files='Cleaned.csv')['train'].train_test_split(train_size=0.8, test_size=0.2)\n",
    "print(ds)"
   ]
  },
  {
   "cell_type": "code",
   "execution_count": 11,
   "id": "8cf545e4-1cf7-4d13-8654-a71ebe8e8952",
   "metadata": {},
   "outputs": [
    {
     "data": {
      "application/vnd.jupyter.widget-view+json": {
       "model_id": "1be0e013381c4ac7a7bc497b5f594afd",
       "version_major": 2,
       "version_minor": 0
      },
      "text/plain": [
       "Flattening the indices:   0%|          | 0/19918 [00:00<?, ? examples/s]"
      ]
     },
     "metadata": {},
     "output_type": "display_data"
    }
   ],
   "source": [
    "num_classes = len(ds['train'].unique('labels'))"
   ]
  },
  {
   "cell_type": "code",
   "execution_count": 12,
   "id": "f5c31b13-31dc-425f-bac8-23cea41bb522",
   "metadata": {},
   "outputs": [
    {
     "data": {
      "text/plain": [
       "2"
      ]
     },
     "execution_count": 12,
     "metadata": {},
     "output_type": "execute_result"
    }
   ],
   "source": [
    "num_classes"
   ]
  },
  {
   "cell_type": "code",
   "execution_count": 13,
   "id": "b9e3e81d-6fb7-4682-84e9-3911cfd4e89e",
   "metadata": {},
   "outputs": [
    {
     "name": "stderr",
     "output_type": "stream",
     "text": [
      "Some weights of BertForSequenceClassification were not initialized from the model checkpoint at bert-base-uncased and are newly initialized: ['classifier.weight', 'classifier.bias']\n",
      "You should probably TRAIN this model on a down-stream task to be able to use it for predictions and inference.\n"
     ]
    },
    {
     "data": {
      "application/vnd.jupyter.widget-view+json": {
       "model_id": "1cdf7f1829534136b90a2e87445c1082",
       "version_major": 2,
       "version_minor": 0
      },
      "text/plain": [
       "Map:   0%|          | 0/19918 [00:00<?, ? examples/s]"
      ]
     },
     "metadata": {},
     "output_type": "display_data"
    },
    {
     "data": {
      "application/vnd.jupyter.widget-view+json": {
       "model_id": "46d56db49477492bb46d7eb3b5130ee5",
       "version_major": 2,
       "version_minor": 0
      },
      "text/plain": [
       "Map:   0%|          | 0/4980 [00:00<?, ? examples/s]"
      ]
     },
     "metadata": {},
     "output_type": "display_data"
    }
   ],
   "source": [
    "# Assuming columns are named 'text' and 'class'\n",
    "train_data = ds['train']\n",
    "test_data = ds['test']\n",
    "\n",
    "# Step 2: Set up the model\n",
    "model_name = 'bert-base-uncased'\n",
    "tokenizer = AutoTokenizer.from_pretrained(model_name)\n",
    "model = AutoModelForSequenceClassification.from_pretrained(model_name, num_labels=2)\n",
    "\n",
    "# Step 3: Tokenize and Prepare Data\n",
    "def tokenize_batch(batch):\n",
    "    return tokenizer(batch['text'], padding=True, truncation=True, return_tensors='pt')\n",
    "\n",
    "train_data = train_data.map(tokenize_batch, batched=True)\n",
    "\n",
    "test_data = test_data.map(tokenize_batch, batched=True)\n"
   ]
  },
  {
   "cell_type": "code",
   "execution_count": 14,
   "id": "4aa7eff5-00a9-4a1e-97c0-4a6437442773",
   "metadata": {},
   "outputs": [
    {
     "data": {
      "text/plain": [
       "BertForSequenceClassification(\n",
       "  (bert): BertModel(\n",
       "    (embeddings): BertEmbeddings(\n",
       "      (word_embeddings): Embedding(30522, 768, padding_idx=0)\n",
       "      (position_embeddings): Embedding(512, 768)\n",
       "      (token_type_embeddings): Embedding(2, 768)\n",
       "      (LayerNorm): LayerNorm((768,), eps=1e-12, elementwise_affine=True)\n",
       "      (dropout): Dropout(p=0.1, inplace=False)\n",
       "    )\n",
       "    (encoder): BertEncoder(\n",
       "      (layer): ModuleList(\n",
       "        (0-11): 12 x BertLayer(\n",
       "          (attention): BertAttention(\n",
       "            (self): BertSelfAttention(\n",
       "              (query): Linear(in_features=768, out_features=768, bias=True)\n",
       "              (key): Linear(in_features=768, out_features=768, bias=True)\n",
       "              (value): Linear(in_features=768, out_features=768, bias=True)\n",
       "              (dropout): Dropout(p=0.1, inplace=False)\n",
       "            )\n",
       "            (output): BertSelfOutput(\n",
       "              (dense): Linear(in_features=768, out_features=768, bias=True)\n",
       "              (LayerNorm): LayerNorm((768,), eps=1e-12, elementwise_affine=True)\n",
       "              (dropout): Dropout(p=0.1, inplace=False)\n",
       "            )\n",
       "          )\n",
       "          (intermediate): BertIntermediate(\n",
       "            (dense): Linear(in_features=768, out_features=3072, bias=True)\n",
       "            (intermediate_act_fn): GELUActivation()\n",
       "          )\n",
       "          (output): BertOutput(\n",
       "            (dense): Linear(in_features=3072, out_features=768, bias=True)\n",
       "            (LayerNorm): LayerNorm((768,), eps=1e-12, elementwise_affine=True)\n",
       "            (dropout): Dropout(p=0.1, inplace=False)\n",
       "          )\n",
       "        )\n",
       "      )\n",
       "    )\n",
       "    (pooler): BertPooler(\n",
       "      (dense): Linear(in_features=768, out_features=768, bias=True)\n",
       "      (activation): Tanh()\n",
       "    )\n",
       "  )\n",
       "  (dropout): Dropout(p=0.1, inplace=False)\n",
       "  (classifier): Linear(in_features=768, out_features=2, bias=True)\n",
       ")"
      ]
     },
     "execution_count": 14,
     "metadata": {},
     "output_type": "execute_result"
    }
   ],
   "source": [
    "device = torch.device('cuda' if torch.cuda.is_available() else 'cpu')\n",
    "model.to(device)"
   ]
  },
  {
   "cell_type": "code",
   "execution_count": 21,
   "id": "348c3129-93f7-4aa1-9e71-367002b4e948",
   "metadata": {},
   "outputs": [],
   "source": [
    "from sklearn.metrics import f1_score\n",
    "\n",
    "# Define a function to compute F1 score during evaluation\n",
    "def compute_f1(predictions, labels):\n",
    "    preds = predictions.argmax(axis=1)\n",
    "    return f1_score(labels, preds, average='weighted')"
   ]
  },
  {
   "cell_type": "code",
   "execution_count": 22,
   "id": "bf91a66a-1b66-477e-b28c-0c5b83a64511",
   "metadata": {},
   "outputs": [
    {
     "name": "stderr",
     "output_type": "stream",
     "text": [
      "Detected kernel version 5.4.0, which is below the recommended minimum of 5.5.0; this can cause the process to hang. It is recommended to upgrade the kernel to the minimum version or higher.\n"
     ]
    },
    {
     "data": {
      "text/html": [
       "\n",
       "    <div>\n",
       "      \n",
       "      <progress value='3735' max='3735' style='width:300px; height:20px; vertical-align: middle;'></progress>\n",
       "      [3735/3735 14:54, Epoch 3/3]\n",
       "    </div>\n",
       "    <table border=\"1\" class=\"dataframe\">\n",
       "  <thead>\n",
       " <tr style=\"text-align: left;\">\n",
       "      <th>Step</th>\n",
       "      <th>Training Loss</th>\n",
       "    </tr>\n",
       "  </thead>\n",
       "  <tbody>\n",
       "    <tr>\n",
       "      <td>500</td>\n",
       "      <td>0.002600</td>\n",
       "    </tr>\n",
       "    <tr>\n",
       "      <td>1000</td>\n",
       "      <td>0.017700</td>\n",
       "    </tr>\n",
       "    <tr>\n",
       "      <td>1500</td>\n",
       "      <td>0.015400</td>\n",
       "    </tr>\n",
       "    <tr>\n",
       "      <td>2000</td>\n",
       "      <td>0.006400</td>\n",
       "    </tr>\n",
       "    <tr>\n",
       "      <td>2500</td>\n",
       "      <td>0.002400</td>\n",
       "    </tr>\n",
       "    <tr>\n",
       "      <td>3000</td>\n",
       "      <td>0.001600</td>\n",
       "    </tr>\n",
       "    <tr>\n",
       "      <td>3500</td>\n",
       "      <td>0.001000</td>\n",
       "    </tr>\n",
       "  </tbody>\n",
       "</table><p>"
      ],
      "text/plain": [
       "<IPython.core.display.HTML object>"
      ]
     },
     "metadata": {},
     "output_type": "display_data"
    },
    {
     "name": "stderr",
     "output_type": "stream",
     "text": [
      "/home/asasmal/myenv/lib/python3.8/site-packages/torch/nn/parallel/_functions.py:68: UserWarning: Was asked to gather along dimension 0, but all input tensors were scalars; will instead unsqueeze and return a vector.\n",
      "  warnings.warn('Was asked to gather along dimension 0, but all '\n",
      "Checkpoint destination directory ./results/checkpoint-1000 already exists and is non-empty.Saving will proceed but saved results may be invalid.\n",
      "/home/asasmal/myenv/lib/python3.8/site-packages/torch/nn/parallel/_functions.py:68: UserWarning: Was asked to gather along dimension 0, but all input tensors were scalars; will instead unsqueeze and return a vector.\n",
      "  warnings.warn('Was asked to gather along dimension 0, but all '\n",
      "/home/asasmal/myenv/lib/python3.8/site-packages/torch/nn/parallel/_functions.py:68: UserWarning: Was asked to gather along dimension 0, but all input tensors were scalars; will instead unsqueeze and return a vector.\n",
      "  warnings.warn('Was asked to gather along dimension 0, but all '\n",
      "/home/asasmal/myenv/lib/python3.8/site-packages/torch/nn/parallel/_functions.py:68: UserWarning: Was asked to gather along dimension 0, but all input tensors were scalars; will instead unsqueeze and return a vector.\n",
      "  warnings.warn('Was asked to gather along dimension 0, but all '\n",
      "/home/asasmal/myenv/lib/python3.8/site-packages/torch/nn/parallel/_functions.py:68: UserWarning: Was asked to gather along dimension 0, but all input tensors were scalars; will instead unsqueeze and return a vector.\n",
      "  warnings.warn('Was asked to gather along dimension 0, but all '\n",
      "/home/asasmal/myenv/lib/python3.8/site-packages/torch/nn/parallel/_functions.py:68: UserWarning: Was asked to gather along dimension 0, but all input tensors were scalars; will instead unsqueeze and return a vector.\n",
      "  warnings.warn('Was asked to gather along dimension 0, but all '\n",
      "/home/asasmal/myenv/lib/python3.8/site-packages/torch/nn/parallel/_functions.py:68: UserWarning: Was asked to gather along dimension 0, but all input tensors were scalars; will instead unsqueeze and return a vector.\n",
      "  warnings.warn('Was asked to gather along dimension 0, but all '\n"
     ]
    },
    {
     "data": {
      "text/plain": [
       "TrainOutput(global_step=3735, training_loss=0.006322357415095709, metrics={'train_runtime': 895.3073, 'train_samples_per_second': 66.741, 'train_steps_per_second': 4.172, 'total_flos': 1.572193800198144e+16, 'train_loss': 0.006322357415095709, 'epoch': 3.0})"
      ]
     },
     "execution_count": 22,
     "metadata": {},
     "output_type": "execute_result"
    }
   ],
   "source": [
    "# Define training arguments\n",
    "training_args = TrainingArguments(\n",
    "    output_dir='./results',\n",
    "    num_train_epochs=3,\n",
    "    per_device_train_batch_size=8,\n",
    "    per_device_eval_batch_size=8,\n",
    "    warmup_steps=500,\n",
    "    weight_decay=0.01,\n",
    "    logging_dir='./logs',\n",
    ")\n",
    "\n",
    "# Define Trainer\n",
    "trainer = Trainer(\n",
    "    model=model,\n",
    "    args=training_args,\n",
    "    train_dataset=train_data,\n",
    "    eval_dataset=test_data,\n",
    "    compute_metrics=lambda p: {'f1': compute_f1(p.predictions, p.label_ids)},\n",
    ")\n",
    "\n",
    "\n",
    "# Train the model\n",
    "trainer.train()\n"
   ]
  },
  {
   "cell_type": "code",
   "execution_count": 23,
   "id": "cf972e53-4696-4a23-bd3a-a06f10325178",
   "metadata": {},
   "outputs": [
    {
     "data": {
      "text/html": [
       "\n",
       "    <div>\n",
       "      \n",
       "      <progress value='312' max='312' style='width:300px; height:20px; vertical-align: middle;'></progress>\n",
       "      [312/312 00:27]\n",
       "    </div>\n",
       "    "
      ],
      "text/plain": [
       "<IPython.core.display.HTML object>"
      ]
     },
     "metadata": {},
     "output_type": "display_data"
    },
    {
     "name": "stdout",
     "output_type": "stream",
     "text": [
      "{'eval_loss': 0.0034655514173209667, 'eval_f1': 0.9995983921491539, 'eval_runtime': 27.2891, 'eval_samples_per_second': 182.491, 'eval_steps_per_second': 11.433, 'epoch': 3.0}\n"
     ]
    }
   ],
   "source": [
    "# Evaluate the model on the test set\n",
    "results = trainer.evaluate()\n",
    "\n",
    "# Print the evaluation results\n",
    "print(results)\n",
    "\n",
    "# Save the model with the best F1 score on the test set\n",
    "trainer.save_model('./best_model')"
   ]
  },
  {
   "cell_type": "code",
   "execution_count": null,
   "id": "1b8ba9ff-e897-4417-8fad-99ec31f7e130",
   "metadata": {},
   "outputs": [],
   "source": []
  },
  {
   "cell_type": "code",
   "execution_count": null,
   "id": "11d04063-f60e-4c84-ab27-e7fa2fecec27",
   "metadata": {},
   "outputs": [],
   "source": []
  }
 ],
 "metadata": {
  "kernelspec": {
   "display_name": "Python 3 (ipykernel)",
   "language": "python",
   "name": "python3"
  },
  "language_info": {
   "codemirror_mode": {
    "name": "ipython",
    "version": 3
   },
   "file_extension": ".py",
   "mimetype": "text/x-python",
   "name": "python",
   "nbconvert_exporter": "python",
   "pygments_lexer": "ipython3",
   "version": "3.8.10"
  }
 },
 "nbformat": 4,
 "nbformat_minor": 5
}
